{
  "metadata": {
    "language_info": {
      "codemirror_mode": {
        "name": "python",
        "version": 3
      },
      "file_extension": ".py",
      "mimetype": "text/x-python",
      "name": "python",
      "nbconvert_exporter": "python",
      "pygments_lexer": "ipython3",
      "version": "3.8"
    },
    "kernelspec": {
      "name": "python",
      "display_name": "Pyolite",
      "language": "python"
    }
  },
  "nbformat_minor": 4,
  "nbformat": 4,
  "cells": [
    {
      "cell_type": "markdown",
      "source": "# My Jupyter Notebook on IBM Watson Studio",
      "metadata": {}
    },
    {
      "cell_type": "markdown",
      "source": "**Tejaswi Parsekar**\n##### If I had to state my desired occupation, it would definitely be that of a Data Scientist. I would love to use my programming and Data Science skills and knowledge in the organization.",
      "metadata": {
        "tags": []
      }
    },
    {
      "cell_type": "markdown",
      "source": "*I am interested in data science because I love problem-solving and analyzing data.*",
      "metadata": {}
    },
    {
      "cell_type": "markdown",
      "source": "### This program adds two numbers",
      "metadata": {}
    },
    {
      "cell_type": "code",
      "source": "num1 = 5\nnum2 = 3\n\n# Add two numbers\nsum = num1 + num2\n\n# Display the sum\nprint('The sum of {0} and {1} is {2}'.format(num1, num2, sum))\n",
      "metadata": {
        "trusted": true
      },
      "execution_count": 6,
      "outputs": [
        {
          "name": "stdout",
          "text": "The sum of 5 and 3 is 8\n",
          "output_type": "stream"
        }
      ]
    },
    {
      "cell_type": "markdown",
      "source": "1. Item 1\n2. Item 2\n3. Item 3 \n    - Item 3A\n    - Item 3B\n4. Item 4",
      "metadata": {}
    },
    {
      "cell_type": "markdown",
      "source": "> Data Science is the study of large quantities of data, which can reveal insights that help organizations make strategic choices.",
      "metadata": {}
    },
    {
      "cell_type": "markdown",
      "source": "---",
      "metadata": {}
    },
    {
      "cell_type": "code",
      "source": "",
      "metadata": {},
      "execution_count": null,
      "outputs": []
    }
  ]
}